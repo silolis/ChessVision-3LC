{
 "cells": [
  {
   "cell_type": "code",
   "execution_count": 5,
   "metadata": {},
   "outputs": [
    {
     "name": "stdout",
     "output_type": "stream",
     "text": [
      "\u001b[90m3lc: \u001b[0mCreating transaction\n",
      "\u001b[90m3lc: \u001b[0mCommitting transaction\n",
      "\u001b[5m\u001b[31mWARNING\u001b[0m \u001b[90m3lc: \u001b[0mFailed to commit transaction: 403 {\"message\":\"Invalid API Key\"}\n",
      "C:/Users/gudbrand/AppData/Local/3LC/3LC/projects/chessvision-testing/datasets/new-raw/tables/edited_value_map\n",
      "True\n"
     ]
    }
   ],
   "source": [
    "import tlc\n",
    "\n",
    "\n",
    "table_url = \"C:/Users/gudbrand/AppData/Local/3LC/3LC/projects/chessvision-testing/datasets/new-raw/tables/17mai\"\n",
    "\n",
    "added_qa_column = (\n",
    "    tlc.Table.from_url(table_url)\n",
    "    .add_column(\"qa\", 0)\n",
    "    .set_value_map(\n",
    "        \"qa\",\n",
    "        {\n",
    "            0: \"-\",\n",
    "            1: \"OK\",\n",
    "            2: \"BAD\",\n",
    "            3: \"X-ERROR\",\n",
    "            4: \"CLASS-ERROR\",\n",
    "        },\n",
    "    )\n",
    ")\n",
    "print(added_qa_column.url)\n",
    "print(added_qa_column.url.exists())\n"
   ]
  },
  {
   "cell_type": "code",
   "execution_count": null,
   "metadata": {},
   "outputs": [],
   "source": []
  }
 ],
 "metadata": {
  "kernelspec": {
   "display_name": ".venv-dev",
   "language": "python",
   "name": "python3"
  },
  "language_info": {
   "codemirror_mode": {
    "name": "ipython",
    "version": 3
   },
   "file_extension": ".py",
   "mimetype": "text/x-python",
   "name": "python",
   "nbconvert_exporter": "python",
   "pygments_lexer": "ipython3",
   "version": "3.11.3"
  }
 },
 "nbformat": 4,
 "nbformat_minor": 2
}
