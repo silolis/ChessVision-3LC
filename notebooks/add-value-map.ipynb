{
 "cells": [
  {
   "cell_type": "code",
   "execution_count": 1,
   "metadata": {},
   "outputs": [],
   "source": [
    "import tlc\n",
    "\n",
    "\n",
    "table_url = \"C:/Users/gudbrand/AppData/Local/3LC/3LC/projects/projectfive/datasets/dataset/tables/AddQaColumn\"\n",
    "\n",
    "added_value_map = tlc.Table.from_url(table_url).set_value_map(\"qa\", {0: \"-\", 1: \"OK\", 2: \"BAD\", 3: \"?\"})"
   ]
  }
 ],
 "metadata": {
  "kernelspec": {
   "display_name": ".venv-dev",
   "language": "python",
   "name": "python3"
  },
  "language_info": {
   "codemirror_mode": {
    "name": "ipython",
    "version": 3
   },
   "file_extension": ".py",
   "mimetype": "text/x-python",
   "name": "python",
   "nbconvert_exporter": "python",
   "pygments_lexer": "ipython3",
   "version": "3.11.3"
  }
 },
 "nbformat": 4,
 "nbformat_minor": 2
}
