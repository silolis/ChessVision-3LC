{
 "cells": [
  {
   "cell_type": "code",
   "execution_count": 1,
   "metadata": {},
   "outputs": [],
   "source": [
    "import torchinfo\n",
    "import timm\n"
   ]
  },
  {
   "cell_type": "code",
   "execution_count": 2,
   "metadata": {},
   "outputs": [],
   "source": [
    "model = timm.create_model('resnet18', pretrained=False, num_classes=13, in_chans=1)"
   ]
  },
  {
   "cell_type": "code",
   "execution_count": 3,
   "metadata": {},
   "outputs": [
    {
     "data": {
      "text/plain": [
       "==========================================================================================\n",
       "Layer (type:depth-idx)                   Output Shape              Param #\n",
       "==========================================================================================\n",
       "ResNet                                   [1, 13]                   --\n",
       "├─Conv2d: 1-1                            [1, 64, 32, 32]           3,136\n",
       "├─BatchNorm2d: 1-2                       [1, 64, 32, 32]           128\n",
       "├─ReLU: 1-3                              [1, 64, 32, 32]           --\n",
       "├─MaxPool2d: 1-4                         [1, 64, 16, 16]           --\n",
       "├─Sequential: 1-5                        [1, 64, 16, 16]           --\n",
       "│    └─BasicBlock: 2-1                   [1, 64, 16, 16]           --\n",
       "│    │    └─Conv2d: 3-1                  [1, 64, 16, 16]           36,864\n",
       "│    │    └─BatchNorm2d: 3-2             [1, 64, 16, 16]           128\n",
       "│    │    └─Identity: 3-3                [1, 64, 16, 16]           --\n",
       "│    │    └─ReLU: 3-4                    [1, 64, 16, 16]           --\n",
       "│    │    └─Identity: 3-5                [1, 64, 16, 16]           --\n",
       "│    │    └─Conv2d: 3-6                  [1, 64, 16, 16]           36,864\n",
       "│    │    └─BatchNorm2d: 3-7             [1, 64, 16, 16]           128\n",
       "│    │    └─ReLU: 3-8                    [1, 64, 16, 16]           --\n",
       "│    └─BasicBlock: 2-2                   [1, 64, 16, 16]           --\n",
       "│    │    └─Conv2d: 3-9                  [1, 64, 16, 16]           36,864\n",
       "│    │    └─BatchNorm2d: 3-10            [1, 64, 16, 16]           128\n",
       "│    │    └─Identity: 3-11               [1, 64, 16, 16]           --\n",
       "│    │    └─ReLU: 3-12                   [1, 64, 16, 16]           --\n",
       "│    │    └─Identity: 3-13               [1, 64, 16, 16]           --\n",
       "│    │    └─Conv2d: 3-14                 [1, 64, 16, 16]           36,864\n",
       "│    │    └─BatchNorm2d: 3-15            [1, 64, 16, 16]           128\n",
       "│    │    └─ReLU: 3-16                   [1, 64, 16, 16]           --\n",
       "├─Sequential: 1-6                        [1, 128, 8, 8]            --\n",
       "│    └─BasicBlock: 2-3                   [1, 128, 8, 8]            --\n",
       "│    │    └─Conv2d: 3-17                 [1, 128, 8, 8]            73,728\n",
       "│    │    └─BatchNorm2d: 3-18            [1, 128, 8, 8]            256\n",
       "│    │    └─Identity: 3-19               [1, 128, 8, 8]            --\n",
       "│    │    └─ReLU: 3-20                   [1, 128, 8, 8]            --\n",
       "│    │    └─Identity: 3-21               [1, 128, 8, 8]            --\n",
       "│    │    └─Conv2d: 3-22                 [1, 128, 8, 8]            147,456\n",
       "│    │    └─BatchNorm2d: 3-23            [1, 128, 8, 8]            256\n",
       "│    │    └─Sequential: 3-24             [1, 128, 8, 8]            8,448\n",
       "│    │    └─ReLU: 3-25                   [1, 128, 8, 8]            --\n",
       "│    └─BasicBlock: 2-4                   [1, 128, 8, 8]            --\n",
       "│    │    └─Conv2d: 3-26                 [1, 128, 8, 8]            147,456\n",
       "│    │    └─BatchNorm2d: 3-27            [1, 128, 8, 8]            256\n",
       "│    │    └─Identity: 3-28               [1, 128, 8, 8]            --\n",
       "│    │    └─ReLU: 3-29                   [1, 128, 8, 8]            --\n",
       "│    │    └─Identity: 3-30               [1, 128, 8, 8]            --\n",
       "│    │    └─Conv2d: 3-31                 [1, 128, 8, 8]            147,456\n",
       "│    │    └─BatchNorm2d: 3-32            [1, 128, 8, 8]            256\n",
       "│    │    └─ReLU: 3-33                   [1, 128, 8, 8]            --\n",
       "├─Sequential: 1-7                        [1, 256, 4, 4]            --\n",
       "│    └─BasicBlock: 2-5                   [1, 256, 4, 4]            --\n",
       "│    │    └─Conv2d: 3-34                 [1, 256, 4, 4]            294,912\n",
       "│    │    └─BatchNorm2d: 3-35            [1, 256, 4, 4]            512\n",
       "│    │    └─Identity: 3-36               [1, 256, 4, 4]            --\n",
       "│    │    └─ReLU: 3-37                   [1, 256, 4, 4]            --\n",
       "│    │    └─Identity: 3-38               [1, 256, 4, 4]            --\n",
       "│    │    └─Conv2d: 3-39                 [1, 256, 4, 4]            589,824\n",
       "│    │    └─BatchNorm2d: 3-40            [1, 256, 4, 4]            512\n",
       "│    │    └─Sequential: 3-41             [1, 256, 4, 4]            33,280\n",
       "│    │    └─ReLU: 3-42                   [1, 256, 4, 4]            --\n",
       "│    └─BasicBlock: 2-6                   [1, 256, 4, 4]            --\n",
       "│    │    └─Conv2d: 3-43                 [1, 256, 4, 4]            589,824\n",
       "│    │    └─BatchNorm2d: 3-44            [1, 256, 4, 4]            512\n",
       "│    │    └─Identity: 3-45               [1, 256, 4, 4]            --\n",
       "│    │    └─ReLU: 3-46                   [1, 256, 4, 4]            --\n",
       "│    │    └─Identity: 3-47               [1, 256, 4, 4]            --\n",
       "│    │    └─Conv2d: 3-48                 [1, 256, 4, 4]            589,824\n",
       "│    │    └─BatchNorm2d: 3-49            [1, 256, 4, 4]            512\n",
       "│    │    └─ReLU: 3-50                   [1, 256, 4, 4]            --\n",
       "├─Sequential: 1-8                        [1, 512, 2, 2]            --\n",
       "│    └─BasicBlock: 2-7                   [1, 512, 2, 2]            --\n",
       "│    │    └─Conv2d: 3-51                 [1, 512, 2, 2]            1,179,648\n",
       "│    │    └─BatchNorm2d: 3-52            [1, 512, 2, 2]            1,024\n",
       "│    │    └─Identity: 3-53               [1, 512, 2, 2]            --\n",
       "│    │    └─ReLU: 3-54                   [1, 512, 2, 2]            --\n",
       "│    │    └─Identity: 3-55               [1, 512, 2, 2]            --\n",
       "│    │    └─Conv2d: 3-56                 [1, 512, 2, 2]            2,359,296\n",
       "│    │    └─BatchNorm2d: 3-57            [1, 512, 2, 2]            1,024\n",
       "│    │    └─Sequential: 3-58             [1, 512, 2, 2]            132,096\n",
       "│    │    └─ReLU: 3-59                   [1, 512, 2, 2]            --\n",
       "│    └─BasicBlock: 2-8                   [1, 512, 2, 2]            --\n",
       "│    │    └─Conv2d: 3-60                 [1, 512, 2, 2]            2,359,296\n",
       "│    │    └─BatchNorm2d: 3-61            [1, 512, 2, 2]            1,024\n",
       "│    │    └─Identity: 3-62               [1, 512, 2, 2]            --\n",
       "│    │    └─ReLU: 3-63                   [1, 512, 2, 2]            --\n",
       "│    │    └─Identity: 3-64               [1, 512, 2, 2]            --\n",
       "│    │    └─Conv2d: 3-65                 [1, 512, 2, 2]            2,359,296\n",
       "│    │    └─BatchNorm2d: 3-66            [1, 512, 2, 2]            1,024\n",
       "│    │    └─ReLU: 3-67                   [1, 512, 2, 2]            --\n",
       "├─SelectAdaptivePool2d: 1-9              [1, 512]                  --\n",
       "│    └─AdaptiveAvgPool2d: 2-9            [1, 512, 1, 1]            --\n",
       "│    └─Flatten: 2-10                     [1, 512]                  --\n",
       "├─Linear: 1-10                           [1, 13]                   6,669\n",
       "==========================================================================================\n",
       "Total params: 11,176,909\n",
       "Trainable params: 11,176,909\n",
       "Non-trainable params: 0\n",
       "Total mult-adds (Units.MEGABYTES): 141.64\n",
       "==========================================================================================\n",
       "Input size (MB): 0.02\n",
       "Forward/backward pass size (MB): 3.24\n",
       "Params size (MB): 44.71\n",
       "Estimated Total Size (MB): 47.97\n",
       "=========================================================================================="
      ]
     },
     "execution_count": 3,
     "metadata": {},
     "output_type": "execute_result"
    },
    {
     "ename": "",
     "evalue": "",
     "output_type": "error",
     "traceback": [
      "\u001b[1;31mThe Kernel crashed while executing code in the current cell or a previous cell. \n",
      "\u001b[1;31mPlease review the code in the cell(s) to identify a possible cause of the failure. \n",
      "\u001b[1;31mClick <a href='https://aka.ms/vscodeJupyterKernelCrash'>here</a> for more info. \n",
      "\u001b[1;31mView Jupyter <a href='command:jupyter.viewOutput'>log</a> for further details."
     ]
    }
   ],
   "source": [
    "torchinfo.summary(model, input_size=(1, 1, 64, 64))"
   ]
  }
 ],
 "metadata": {
  "kernelspec": {
   "display_name": ".venv-dev",
   "language": "python",
   "name": "python3"
  },
  "language_info": {
   "codemirror_mode": {
    "name": "ipython",
    "version": 3
   },
   "file_extension": ".py",
   "mimetype": "text/x-python",
   "name": "python",
   "nbconvert_exporter": "python",
   "pygments_lexer": "ipython3",
   "version": "3.11.3"
  }
 },
 "nbformat": 4,
 "nbformat_minor": 2
}
