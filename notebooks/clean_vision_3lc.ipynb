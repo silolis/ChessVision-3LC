{
 "cells": [
  {
   "cell_type": "code",
   "execution_count": 1,
   "metadata": {},
   "outputs": [
    {
     "name": "stdout",
     "output_type": "stream",
     "text": [
      "\u001b[90m3lc: \u001b[0mReusing existing run at C:/Users/gudbrand/AppData/Local/3LC/3LC/projects/chessvision-segmentation/runs/base-run\n",
      "Checking for dark, light, odd_aspect_ratio, low_information, exact_duplicates, near_duplicates, blurry, grayscale, odd_size images ...\n"
     ]
    },
    {
     "data": {
      "application/vnd.jupyter.widget-view+json": {
       "model_id": "59713ce52d7c4451bb31f6d9b4e6ac91",
       "version_major": 2,
       "version_minor": 0
      },
      "text/plain": [
       "  0%|          | 0/568 [00:00<?, ?it/s]"
      ]
     },
     "metadata": {},
     "output_type": "display_data"
    },
    {
     "data": {
      "application/vnd.jupyter.widget-view+json": {
       "model_id": "b0457fd5cddf40c09d08fa65f88cd38c",
       "version_major": 2,
       "version_minor": 0
      },
      "text/plain": [
       "  0%|          | 0/568 [00:00<?, ?it/s]"
      ]
     },
     "metadata": {},
     "output_type": "display_data"
    },
    {
     "name": "stdout",
     "output_type": "stream",
     "text": [
      "Issue checks completed. 21 issues found in the dataset. To see a detailed report of issues found, use imagelab.report().\n",
      "Checking for dark, light, odd_aspect_ratio, low_information, exact_duplicates, near_duplicates, blurry, grayscale, odd_size images ...\n"
     ]
    },
    {
     "data": {
      "application/vnd.jupyter.widget-view+json": {
       "model_id": "c128c9ccf1404aa78a2b0e2bf47c6e0e",
       "version_major": 2,
       "version_minor": 0
      },
      "text/plain": [
       "  0%|          | 0/63 [00:00<?, ?it/s]"
      ]
     },
     "metadata": {},
     "output_type": "display_data"
    },
    {
     "data": {
      "application/vnd.jupyter.widget-view+json": {
       "model_id": "3ea7d4ff92d547aabf44540bb59936e6",
       "version_major": 2,
       "version_minor": 0
      },
      "text/plain": [
       "  0%|          | 0/63 [00:00<?, ?it/s]"
      ]
     },
     "metadata": {},
     "output_type": "display_data"
    },
    {
     "name": "stdout",
     "output_type": "stream",
     "text": [
      "Issue checks completed. 1 issues found in the dataset. To see a detailed report of issues found, use imagelab.report().\n"
     ]
    }
   ],
   "source": [
    "import tlc\n",
    "from cleanvision import Imagelab\n",
    "\n",
    "PROJECT_NAME = \"chessvision-segmentation\"\n",
    "RUN_NAME = \"base-run\"\n",
    "\n",
    "run = tlc.init(PROJECT_NAME, RUN_NAME, if_exists=\"reuse\")\n",
    "\n",
    "for table_name, dataset_name in [(\"table\", \"chessboard-segmentation-train\"), (\"table\", \"chessboard-segmentation-val\")]:\n",
    "    table = tlc.Table.from_names(table_name, dataset_name, PROJECT_NAME)\n",
    "    table.map(lambda x: (x[\"image\"],))\n",
    "    imagelab = Imagelab(torchvision_dataset=table)\n",
    "    imagelab.find_issues()\n",
    "    imagelab_issues = imagelab.issues.to_dict(orient=\"list\")\n",
    "    run.add_metrics_data(imagelab_issues, input_table_url=table.url)\n",
    "\n",
    "run.set_status_completed()"
   ]
  },
  {
   "cell_type": "code",
   "execution_count": null,
   "metadata": {},
   "outputs": [],
   "source": [
    "imagelab.report()"
   ]
  },
  {
   "cell_type": "code",
   "execution_count": null,
   "metadata": {},
   "outputs": [],
   "source": [
    "imagelab.issues.head()"
   ]
  },
  {
   "cell_type": "code",
   "execution_count": null,
   "metadata": {},
   "outputs": [],
   "source": [
    "imagelab.list_default_issue_types()"
   ]
  },
  {
   "cell_type": "code",
   "execution_count": null,
   "metadata": {},
   "outputs": [],
   "source": [
    "imagelab.info"
   ]
  }
 ],
 "metadata": {
  "kernelspec": {
   "display_name": ".venv-dev",
   "language": "python",
   "name": "python3"
  },
  "language_info": {
   "codemirror_mode": {
    "name": "ipython",
    "version": 3
   },
   "file_extension": ".py",
   "mimetype": "text/x-python",
   "name": "python",
   "nbconvert_exporter": "python",
   "pygments_lexer": "ipython3",
   "version": "3.11.3"
  }
 },
 "nbformat": 4,
 "nbformat_minor": 2
}
