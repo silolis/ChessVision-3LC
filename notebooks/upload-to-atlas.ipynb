{
 "cells": [
  {
   "cell_type": "code",
   "execution_count": null,
   "metadata": {},
   "outputs": [],
   "source": [
    "import nomic"
   ]
  },
  {
   "cell_type": "code",
   "execution_count": null,
   "metadata": {},
   "outputs": [],
   "source": [
    "nomic.login(\"nk-RCSHG5Fd2mfYRgW0lDNMLS0Cje_1-ZjVtjbZedpSdVM\")"
   ]
  },
  {
   "cell_type": "code",
   "execution_count": null,
   "metadata": {},
   "outputs": [],
   "source": [
    "import tlc\n",
    "\n",
    "latest_run = tlc.Run.from_url(\n",
    "    \"C:/Users/gudbrand/AppData/Local/3LC/3LC/projects/chessvision-classification/runs/train-classifier_0008\",\n",
    ")\n"
   ]
  },
  {
   "cell_type": "code",
   "execution_count": null,
   "metadata": {},
   "outputs": [],
   "source": [
    "mt = latest_run.metrics_tables[-2]\n",
    "mt_url = mt.url.replace(\"_reduced_embeddings_90_00\", \"\")\n",
    "mt = tlc.Table.from_url(mt_url)"
   ]
  },
  {
   "cell_type": "code",
   "execution_count": null,
   "metadata": {},
   "outputs": [],
   "source": [
    "table_url = mt.get_foreign_table_url().to_absolute(mt.url)\n",
    "table = tlc.Table.from_url(table_url)"
   ]
  },
  {
   "cell_type": "code",
   "execution_count": null,
   "metadata": {},
   "outputs": [],
   "source": [
    "embeddings = []\n",
    "data = []\n",
    "\n",
    "i = 0\n",
    "for row in table.table_rows:\n",
    "    if row[\"weight\"] == 0:\n",
    "        continue\n",
    "    embedding = mt[i][\"embeddings_90\"]\n",
    "    image_url = tlc.Url(row[\"image\"]).to_absolute().to_str()\n",
    "\n",
    "    embeddings.append(embedding)\n",
    "    data.append({\"image\": image_url})\n",
    "    i += 1"
   ]
  },
  {
   "cell_type": "code",
   "execution_count": null,
   "metadata": {},
   "outputs": [],
   "source": [
    "import numpy as np\n",
    "from nomic import atlas\n",
    "\n",
    "dataset = atlas.map_data(data=data, embeddings=np.array(embeddings))"
   ]
  }
 ],
 "metadata": {
  "kernelspec": {
   "display_name": ".venv-dev",
   "language": "python",
   "name": "python3"
  },
  "language_info": {
   "codemirror_mode": {
    "name": "ipython",
    "version": 3
   },
   "file_extension": ".py",
   "mimetype": "text/x-python",
   "name": "python",
   "nbconvert_exporter": "python",
   "pygments_lexer": "ipython3",
   "version": "3.11.3"
  }
 },
 "nbformat": 4,
 "nbformat_minor": 2
}
