{
 "cells": [
  {
   "cell_type": "code",
   "execution_count": null,
   "metadata": {},
   "outputs": [],
   "source": [
    "import numpy as np\n",
    "import timm\n",
    "import tlc\n",
    "from cleanlab.classification import CleanLearning\n",
    "from skorch import NeuralNetClassifier\n",
    "from torch import nn\n"
   ]
  },
  {
   "cell_type": "code",
   "execution_count": null,
   "metadata": {},
   "outputs": [],
   "source": [
    "table = tlc.Table.from_names(\"val\", \"chesspieces-val\", \"chessvision-classification\")\n",
    "\n",
    "def transform_image(img):\n",
    "    arr = np.expand_dims(np.array(img, dtype=np.float32), 0) / 255.\n",
    "    return arr\n",
    "\n",
    "images = np.array([transform_image(row[0]) for row in table])\n",
    "labels = np.array([row[1] for row in table], dtype=np.int64)\n"
   ]
  },
  {
   "cell_type": "code",
   "execution_count": null,
   "metadata": {},
   "outputs": [],
   "source": [
    "model = timm.create_model(\"resnet18\", num_classes=13, in_chans=1)\n",
    "skorch_model = NeuralNetClassifier(\n",
    "    model,\n",
    "    max_epochs=100,\n",
    "    criterion=nn.CrossEntropyLoss(),\n",
    "    lr=0.1,\n",
    "    batch_size=128,\n",
    "    optimizer__weight_decay=0.0001,\n",
    "    train_split=None,\n",
    "    device=\"cuda\",\n",
    ")\n",
    "\n",
    "cleanlearning = CleanLearning(clf=skorch_model)\n",
    "label_issues_info = cleanlearning.find_label_issues(images, labels)\n"
   ]
  },
  {
   "cell_type": "code",
   "execution_count": null,
   "metadata": {},
   "outputs": [],
   "source": [
    "label_issues_info"
   ]
  },
  {
   "cell_type": "code",
   "execution_count": null,
   "metadata": {},
   "outputs": [],
   "source": [
    "value_map = table.get_value_map(\"label\")\n",
    "labels = [v[\"internal_name\"] for v in value_map.values()]"
   ]
  },
  {
   "cell_type": "code",
   "execution_count": null,
   "metadata": {},
   "outputs": [],
   "source": [
    "run = tlc.init(\n",
    "    \"chessvision-classification\",\n",
    "    run_name=\"cleanlab-testing\",\n",
    ")\n",
    "run.add_metrics_data(\n",
    "    label_issues_info.to_dict(orient=\"list\"),\n",
    "    input_table_url=table.url,\n",
    "    override_column_schemas={\n",
    "        \"given_label\": tlc.CategoricalLabel(\"label\", labels),\n",
    "        \"predicted_label\": tlc.CategoricalLabel(\"label\", labels),\n",
    "    },\n",
    ")\n",
    "run.set_status_completed()\n"
   ]
  }
 ],
 "metadata": {
  "kernelspec": {
   "display_name": ".venv-dev",
   "language": "python",
   "name": "python3"
  },
  "language_info": {
   "codemirror_mode": {
    "name": "ipython",
    "version": 3
   },
   "file_extension": ".py",
   "mimetype": "text/x-python",
   "name": "python",
   "nbconvert_exporter": "python",
   "pygments_lexer": "ipython3",
   "version": "3.11.3"
  }
 },
 "nbformat": 4,
 "nbformat_minor": 2
}
